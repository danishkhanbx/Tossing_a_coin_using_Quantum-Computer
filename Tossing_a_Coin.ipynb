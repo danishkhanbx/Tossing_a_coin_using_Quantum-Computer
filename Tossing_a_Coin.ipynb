{
  "nbformat": 4,
  "nbformat_minor": 0,
  "metadata": {
    "colab": {
      "name": "Tossing_a_Coin.ipynb",
      "provenance": [],
      "collapsed_sections": [],
      "toc_visible": true,
      "authorship_tag": "ABX9TyPu0Uq0NmuwHVTZNWCu+LQ9",
      "include_colab_link": true
    },
    "kernelspec": {
      "name": "python3",
      "display_name": "Python 3"
    },
    "language_info": {
      "name": "python"
    }
  },
  "cells": [
    {
      "cell_type": "markdown",
      "metadata": {
        "id": "view-in-github",
        "colab_type": "text"
      },
      "source": [
        "<a href=\"https://colab.research.google.com/github/danishkhanbx/Tossing_a_coin_using_Quantum-Computer/blob/main/Tossing_a_Coin.ipynb\" target=\"_parent\"><img src=\"https://colab.research.google.com/assets/colab-badge.svg\" alt=\"Open In Colab\"/></a>"
      ]
    },
    {
      "cell_type": "markdown",
      "metadata": {
        "id": "PDfWe_kvY257"
      },
      "source": [
        "**Tossing a coin using Quantum Computer**"
      ]
    },
    {
      "cell_type": "code",
      "metadata": {
        "id": "WNvYNS1BQtaz"
      },
      "source": [
        "pip install qiskit"
      ],
      "execution_count": null,
      "outputs": []
    },
    {
      "cell_type": "code",
      "metadata": {
        "id": "pR77DpjURB8q"
      },
      "source": [
        "from qiskit import *\n",
        "\n",
        "# Create circuit with 1 quantum and 1 classical bit\n",
        "circuit = QuantumCircuit(1,1)\n",
        "\n",
        "# Apply Hadamard gate to quantum bit --> Superposition\n",
        "circuit.h(0)\n",
        "\n",
        "# Measure quantum bit and store result in classical bit\n",
        "circuit.measure(0,0)"
      ],
      "execution_count": null,
      "outputs": []
    },
    {
      "cell_type": "code",
      "metadata": {
        "id": "YtYgpe-DRCQq"
      },
      "source": [
        "# Execute quantum circuit once (\"shots\") on real quantum computer \"ibmq_armonk\" \n",
        "provider = IBMQ.enable_account(\"PUT YOUR API KEY HERE\")\n",
        "quantum_computer = provider.get_backend(\"ibmq_armonk\")\n",
        "job = execute(circuit, quantum_computer, shots=1) # increase the times you want it to toss by shots = n(desired number)"
      ],
      "execution_count": null,
      "outputs": []
    },
    {
      "cell_type": "markdown",
      "metadata": {
        "id": "IsAixe3kV3go"
      },
      "source": [
        "Get your API key by signing up at quantum-computing.ibm.com , you will find your API key on the dashboard. Never share or show it or paste it anywhere else."
      ]
    },
    {
      "cell_type": "code",
      "metadata": {
        "id": "ZEm8_xHzRCrh"
      },
      "source": [
        "# Extract result and print it\n",
        "counts = job.result().get_counts()\n",
        "result = \"heads\" if next(iter(counts.keys())) == \"0\" else \"tails\"\n",
        "print(f\"The quantum coin is: {result}\")"
      ],
      "execution_count": null,
      "outputs": []
    }
  ]
}